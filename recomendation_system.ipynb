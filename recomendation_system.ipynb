{
  "cells": [
    {
      "cell_type": "markdown",
      "metadata": {
        "id": "view-in-github",
        "colab_type": "text"
      },
      "source": [
        "<a href=\"https://colab.research.google.com/github/ViniciusSolon/MovieRecSys/blob/main/recomendation_system.ipynb\" target=\"_parent\"><img src=\"https://colab.research.google.com/assets/colab-badge.svg\" alt=\"Open In Colab\"/></a>"
      ]
    },
    {
      "cell_type": "code",
      "execution_count": 20,
      "metadata": {
        "id": "vXg5po_p7Ab2"
      },
      "outputs": [],
      "source": [
        "import ast\n",
        "import nltk\n",
        "import sklearn\n",
        "import numpy as np\n",
        "import pandas as pd\n",
        "from nltk.stem.porter import PorterStemmer\n",
        "from sklearn.feature_extraction.text import CountVectorizer\n",
        "from sklearn.metrics.pairwise import cosine_similarity\n",
        "pd.options.mode.chained_assignment = None"
      ]
    },
    {
      "cell_type": "code",
      "execution_count": 21,
      "metadata": {
        "id": "FUGi_k2p4LXN"
      },
      "outputs": [],
      "source": [
        "# Load datasets\n",
        "df_movies = pd.read_csv(\"dataset_filmes.csv\")\n",
        "df_people = pd.read_csv(\"dataset_elenco.csv\")\n",
        "\n",
        "# Merge datasets on title\n",
        "df_movies = df_movies.merge(df_people, on='title')"
      ]
    },
    {
      "cell_type": "code",
      "execution_count": 22,
      "metadata": {
        "id": "MAS8HKeeB_qw"
      },
      "outputs": [],
      "source": [
        "# Select relevant columns\n",
        "df_movies = df_movies[['title', 'cast', 'movie_id', 'overview', 'genres', 'keywords', 'crew']]\n",
        "\n",
        "# Check for missing values\n",
        "df_movies.isnull().sum()\n",
        "\n",
        "# Drop missing values\n",
        "df_movies.dropna(inplace=True)\n"
      ]
    },
    {
      "cell_type": "code",
      "execution_count": 23,
      "metadata": {
        "id": "rjPIzLapCsUc"
      },
      "outputs": [],
      "source": [
        "# AST (Abstract Syntax Trees) for parsing string representations of lists\n",
        "def convert(obj):\n",
        "    L = []\n",
        "    for i in ast.literal_eval(obj):\n",
        "        L.append(i['name'])\n",
        "    return L\n",
        "\n",
        "df_movies['genres'] = df_movies['genres'].apply(convert)\n",
        "df_movies['keywords'] = df_movies['keywords'].apply(convert)\n"
      ]
    },
    {
      "cell_type": "code",
      "execution_count": 24,
      "metadata": {
        "id": "I_XnjtWSeri1"
      },
      "outputs": [],
      "source": [
        "# Convert cast column (limit to 3 actors)\n",
        "def convert_cast(obj):\n",
        "    L = []\n",
        "    counter = 0\n",
        "    for i in ast.literal_eval(obj):\n",
        "        if counter != 3:\n",
        "            L.append(i['name'])\n",
        "            counter += 1\n",
        "        else:\n",
        "            break\n",
        "    return L\n",
        "\n",
        "df_movies['cast'] = df_movies['cast'].apply(convert_cast)\n"
      ]
    },
    {
      "cell_type": "code",
      "execution_count": 25,
      "metadata": {
        "id": "ly7Bv8RzeyiK"
      },
      "outputs": [],
      "source": [
        "# Extract director from crew column\n",
        "def fetch_director(obj):\n",
        "    L = []\n",
        "    for i in ast.literal_eval(obj):\n",
        "        if i['job'] == 'Director':\n",
        "            L.append(i['name'])\n",
        "    return L\n",
        "\n",
        "df_movies['crew'] = df_movies['crew'].apply(fetch_director)\n",
        "\n",
        "# Tokenize overview column\n",
        "df_movies['overview'] = df_movies['overview'].apply(lambda x: x.split())\n"
      ]
    },
    {
      "cell_type": "code",
      "execution_count": 26,
      "metadata": {
        "id": "si4853gH5OlC"
      },
      "outputs": [],
      "source": [
        "# Remove spaces from genres, keywords, cast, and crew\n",
        "df_movies['genres'] = df_movies['genres'].apply(lambda x: [i.replace(\" \", \"\") for i in x])\n",
        "df_movies['keywords'] = df_movies['keywords'].apply(lambda x: [i.replace(\" \", \"\") for i in x])\n",
        "df_movies['cast'] = df_movies['cast'].apply(lambda x: [i.replace(\" \", \"\") for i in x])\n",
        "df_movies['crew'] = df_movies['crew'].apply(lambda x: [i.replace(\" \", \"\") for i in x])\n",
        "\n",
        "# Create tags column\n",
        "df_movies['tags'] = df_movies['overview'] + df_movies['genres'] + df_movies['keywords'] + df_movies['cast'] + df_movies['crew']\n",
        "\n",
        "df_movies_final = df_movies[['movie_id', 'title', 'tags']]\n"
      ]
    },
    {
      "cell_type": "code",
      "execution_count": 27,
      "metadata": {
        "id": "l93d_ITE5gLZ"
      },
      "outputs": [],
      "source": [
        "# Convert list of tags into a single string\n",
        "df_movies_final['tags'] = df_movies_final['tags'].apply(lambda x: \" \".join(x))\n",
        "df_movies_final['tags'] = df_movies_final['tags'].apply(lambda x: x.lower())\n",
        "\n",
        "# Apply stemming to tags\n",
        "parser_ps = PorterStemmer()\n",
        "\n",
        "def stem(text):\n",
        "    return \" \".join([parser_ps.stem(i) for i in text.split()])\n",
        "\n",
        "df_movies_final['tags'] = df_movies_final['tags'].apply(stem)\n"
      ]
    },
    {
      "cell_type": "code",
      "execution_count": 28,
      "metadata": {
        "id": "Wh9N5dkG5poD"
      },
      "outputs": [],
      "source": [
        "\n",
        "# Create CountVectorizer (limit to 5000 words, removing English stop words)\n",
        "cv = CountVectorizer(max_features=5000, stop_words='english')\n",
        "\n",
        "# Transform tags into feature vectors\n",
        "vectors = cv.fit_transform(df_movies_final['tags']).toarray()\n",
        "\n",
        "# Compute cosine similarity between movie vectors\n",
        "similarity = cosine_similarity(vectors)\n",
        "\n",
        "# Recommendation system function\n",
        "def recommend_movie(movie):\n",
        "    index = df_movies_final[df_movies_final['title'] == movie].index[0]\n",
        "    distances = sorted(list(enumerate(similarity[index])), reverse=True, key=lambda x: x[1])\n",
        "    for i in distances[1:6]:\n",
        "        print(df_movies_final.iloc[i[0]].title)\n"
      ]
    },
    {
      "cell_type": "code",
      "execution_count": 35,
      "metadata": {
        "id": "OKp1B5bu7io6",
        "colab": {
          "base_uri": "https://localhost:8080/"
        },
        "outputId": "57967e37-833b-43d7-d241-2cee46402971"
      },
      "outputs": [
        {
          "output_type": "stream",
          "name": "stdout",
          "text": [
            "Iron Man 3\n",
            "Avengers: Age of Ultron\n",
            "Captain America: Civil War\n",
            "Captain America: The First Avenger\n",
            "Iron Man\n"
          ]
        }
      ],
      "source": [
        "recommend_movie('The Avengers')\n",
        "\n"
      ]
    },
    {
      "cell_type": "code",
      "execution_count": 37,
      "metadata": {
        "colab": {
          "base_uri": "https://localhost:8080/"
        },
        "id": "PET--GyF8F85",
        "outputId": "50542a38-8acc-4884-913b-ff59fca59e43"
      },
      "outputs": [
        {
          "output_type": "stream",
          "name": "stdout",
          "text": [
            "The Hunger Games: Catching Fire\n",
            "The Hunger Games: Mockingjay - Part 2\n",
            "The Hunger Games: Mockingjay - Part 1\n",
            "Indie Game: The Movie\n",
            "The Indian in the Cupboard\n"
          ]
        }
      ],
      "source": [
        "recommend_movie('The Hunger Games')"
      ]
    }
  ],
  "metadata": {
    "accelerator": "TPU",
    "colab": {
      "gpuType": "V28",
      "provenance": [],
      "authorship_tag": "ABX9TyNsaYmHNFy0jixW/nVSa1Ro",
      "include_colab_link": true
    },
    "kernelspec": {
      "display_name": "Python 3",
      "name": "python3"
    },
    "language_info": {
      "name": "python"
    }
  },
  "nbformat": 4,
  "nbformat_minor": 0
}